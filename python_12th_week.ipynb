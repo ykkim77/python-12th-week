{
  "nbformat": 4,
  "nbformat_minor": 0,
  "metadata": {
    "colab": {
      "provenance": []
    },
    "kernelspec": {
      "name": "python3",
      "display_name": "Python 3"
    },
    "language_info": {
      "name": "python"
    }
  },
  "cells": [
    {
      "cell_type": "markdown",
      "metadata": {
        "id": "tJU1chWHlQ3o"
      },
      "source": [
        "# 모듈"
      ]
    },
    {
      "cell_type": "markdown",
      "metadata": {
        "id": "DmCBCBuCekHn"
      },
      "source": [
        "**현재 파일을 쓰는 디렉토리 위치 확인!**"
      ]
    },
    {
      "cell_type": "code",
      "metadata": {
        "id": "TDTBlQ_xdXzx"
      },
      "source": [
        "!pwd"
      ],
      "execution_count": null,
      "outputs": []
    },
    {
      "cell_type": "code",
      "metadata": {
        "id": "MWzuyny4h25u"
      },
      "source": [
        "!cat mod1.py"
      ],
      "execution_count": null,
      "outputs": []
    },
    {
      "cell_type": "markdown",
      "metadata": {
        "id": "LGKFxqC2eqv5"
      },
      "source": [
        "**모듈 불러오기**"
      ]
    },
    {
      "cell_type": "code",
      "metadata": {
        "id": "vMZ7KfTygCBX"
      },
      "source": [
        "import mod1"
      ],
      "execution_count": null,
      "outputs": []
    },
    {
      "cell_type": "code",
      "metadata": {
        "id": "MCYNSze8gU6T"
      },
      "source": [
        "print(mod1.add(1,2))\n",
        "print(mod1.sub(2,1))"
      ],
      "execution_count": null,
      "outputs": []
    },
    {
      "cell_type": "markdown",
      "metadata": {
        "id": "oW_QwvlCg68O"
      },
      "source": [
        "**from 구문을 이용한 모듈 이름 생략**"
      ]
    },
    {
      "cell_type": "code",
      "metadata": {
        "id": "xjl7w-u7gzFs"
      },
      "source": [
        "from mod1 import add, sub"
      ],
      "execution_count": null,
      "outputs": []
    },
    {
      "cell_type": "code",
      "metadata": {
        "id": "_64kyAAyhD-K"
      },
      "source": [
        "print(add(1,2))\n",
        "print(sub(2,1))"
      ],
      "execution_count": null,
      "outputs": []
    },
    {
      "cell_type": "markdown",
      "metadata": {
        "id": "SECSMmVej4k9"
      },
      "source": [
        "**class가 포함된 모듈 불러오기**"
      ]
    },
    {
      "cell_type": "code",
      "source": [
        "!cat mod2.py"
      ],
      "metadata": {
        "id": "E_hZcD9aRI5d"
      },
      "execution_count": null,
      "outputs": []
    },
    {
      "cell_type": "code",
      "metadata": {
        "id": "9_0ZoKNHjYrr"
      },
      "source": [
        "from mod2 import Circle"
      ],
      "execution_count": null,
      "outputs": []
    },
    {
      "cell_type": "code",
      "metadata": {
        "id": "DX_1-Y9gjh8S"
      },
      "source": [
        "a = Circle()"
      ],
      "execution_count": null,
      "outputs": []
    },
    {
      "cell_type": "code",
      "source": [
        "print(a.calculate_circle_area(5))"
      ],
      "metadata": {
        "id": "DydQb_XDQQcu"
      },
      "execution_count": null,
      "outputs": []
    },
    {
      "cell_type": "markdown",
      "metadata": {
        "id": "iL74Pl5Uj96-"
      },
      "source": [
        "**모듈을 저장한 디렉터리 사용하기**"
      ]
    },
    {
      "cell_type": "code",
      "metadata": {
        "id": "PVM-oH0XkDIy"
      },
      "source": [
        "import sys\n",
        "sys.path"
      ],
      "execution_count": null,
      "outputs": []
    },
    {
      "cell_type": "markdown",
      "metadata": {
        "id": "SOsW6HsckLqz"
      },
      "source": [
        "**구글 드라이브 마운트**"
      ]
    },
    {
      "cell_type": "code",
      "metadata": {
        "id": "qCFZYwd2kQ6e"
      },
      "source": [
        "from google.colab import drive\n",
        "drive.mount('/gdrive')"
      ],
      "execution_count": null,
      "outputs": []
    },
    {
      "cell_type": "code",
      "metadata": {
        "id": "EsEdKpzdkQ6e"
      },
      "source": [
        "with open('/gdrive/My Drive/foo.txt', 'w') as f:\n",
        "  f.write('Hello Google Drive!')\n",
        "!cat '/gdrive/My Drive/foo.txt'"
      ],
      "execution_count": null,
      "outputs": []
    },
    {
      "cell_type": "code",
      "metadata": {
        "id": "qGvdEJoHkb7N"
      },
      "source": [
        "sys.path.append(\"/gdrive/My Drive/\")"
      ],
      "execution_count": null,
      "outputs": []
    },
    {
      "cell_type": "code",
      "metadata": {
        "id": "tOuRp4BBklqf"
      },
      "source": [
        "sys.path"
      ],
      "execution_count": null,
      "outputs": []
    },
    {
      "cell_type": "code",
      "source": [
        "from mod3 import mul\n",
        "\n",
        "print(mul(3,4))"
      ],
      "metadata": {
        "id": "SjsxygKYWhTE"
      },
      "execution_count": null,
      "outputs": []
    },
    {
      "cell_type": "markdown",
      "metadata": {
        "id": "NZrGoNJvlTyr"
      },
      "source": [
        "# 패키지"
      ]
    },
    {
      "cell_type": "markdown",
      "metadata": {
        "id": "ldrALknflabb"
      },
      "source": [
        "현재 설치 되어 있는 패키지 확인"
      ]
    },
    {
      "cell_type": "code",
      "metadata": {
        "id": "37qldqKclYut"
      },
      "source": [
        "!pip list"
      ],
      "execution_count": null,
      "outputs": []
    },
    {
      "cell_type": "code",
      "metadata": {
        "id": "Nj7kfxd2lrm2"
      },
      "source": [
        "!pip install rsa"
      ],
      "execution_count": null,
      "outputs": []
    },
    {
      "cell_type": "code",
      "metadata": {
        "id": "M5YbsRzfl0Vj"
      },
      "source": [
        "import rsa\n",
        "\n",
        "# RSA 키 쌍 생성\n",
        "(public_key, private_key) = rsa.newkeys(512)  # 키 크기는 적절하게 조절 가능\n",
        "\n",
        "# 공개키로 문자열 암호화\n",
        "def encrypt_string(message, public_key):\n",
        "    encrypted_message = rsa.encrypt(message.encode('utf-8'), public_key)\n",
        "    return encrypted_message\n",
        "\n",
        "# 암호화된 문자열을 개인키로 복호화\n",
        "def decrypt_string(encrypted_message, private_key):\n",
        "    decrypted_message = rsa.decrypt(encrypted_message, private_key).decode('utf-8')\n",
        "    return decrypted_message\n",
        "\n",
        "# 테스트할 문자열\n",
        "original_message = \"Hello, CUK!\"\n",
        "\n",
        "# 문자열 암호화\n",
        "encrypted_message = encrypt_string(original_message, public_key)\n",
        "print(\"Encrypted message:\", encrypted_message)\n",
        "\n",
        "# 복호화\n",
        "decrypted_message = decrypt_string(encrypted_message, private_key)\n",
        "print(\"Decrypted message:\", decrypted_message)"
      ],
      "execution_count": null,
      "outputs": []
    }
  ]
}